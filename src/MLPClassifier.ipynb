{
 "cells": [
  {
   "cell_type": "code",
   "execution_count": null,
   "metadata": {},
   "outputs": [
    {
     "name": "stderr",
     "output_type": "stream",
     "text": [
      "2025-04-01 17:34:01.760027: E external/local_xla/xla/stream_executor/cuda/cuda_fft.cc:467] Unable to register cuFFT factory: Attempting to register factory for plugin cuFFT when one has already been registered\n",
      "WARNING: All log messages before absl::InitializeLog() is called are written to STDERR\n",
      "E0000 00:00:1743496441.820049   46197 cuda_dnn.cc:8579] Unable to register cuDNN factory: Attempting to register factory for plugin cuDNN when one has already been registered\n",
      "E0000 00:00:1743496441.837028   46197 cuda_blas.cc:1407] Unable to register cuBLAS factory: Attempting to register factory for plugin cuBLAS when one has already been registered\n",
      "W0000 00:00:1743496441.960505   46197 computation_placer.cc:177] computation placer already registered. Please check linkage and avoid linking the same target more than once.\n",
      "W0000 00:00:1743496441.960525   46197 computation_placer.cc:177] computation placer already registered. Please check linkage and avoid linking the same target more than once.\n",
      "W0000 00:00:1743496441.960526   46197 computation_placer.cc:177] computation placer already registered. Please check linkage and avoid linking the same target more than once.\n",
      "W0000 00:00:1743496441.960527   46197 computation_placer.cc:177] computation placer already registered. Please check linkage and avoid linking the same target more than once.\n",
      "2025-04-01 17:34:01.974471: I tensorflow/core/platform/cpu_feature_guard.cc:210] This TensorFlow binary is optimized to use available CPU instructions in performance-critical operations.\n",
      "To enable the following instructions: AVX2 FMA, in other operations, rebuild TensorFlow with the appropriate compiler flags.\n"
     ]
    }
   ],
   "source": [
    "import pandas as pd\n",
    "import os\n",
    "from deepface import DeepFace # 얼굴 임베딩 추출을 위한 DeepFace 라이브러리\n",
    "from sklearn.model_selection import train_test_split # 학습/테스트 데이터 분할 도구\n",
    "from sklearn.neural_network import MLPClassifier # 다층 퍼셉트론 분류 모델\n",
    "from sklearn.metrics import classification_report # 분류 결과 평가 리포트 생성\n",
    "import numpy as np\n",
    "from tqdm import tqdm\n",
    "import joblib # 학습된 모델 저장/로드를 위한 라이브러리\n",
    "\n",
    "# 숫자 라벨을 텍스트 감정 라벨로 매핑하는 딕셔너리 정의\n",
    "label_map = {0: \"angry\", 1: \"happy\", 2: \"neutral\", 3: \"sad\"}\n",
    "\n",
    "# 임베딩과 라벨 파일을 저장할 폴더 경로 설정\n",
    "BASE_DIR = \"./MLPClassifier\"\n",
    "os.makedirs(BASE_DIR, exist_ok=True)\n",
    "\n",
    "# 최종 저장 파일 경로와 중간 저장 파일 경로 설정\n",
    "embeddings_file = os.path.join(BASE_DIR, \"embeddings.npy\")\n",
    "labels_file = os.path.join(BASE_DIR, \"labels.npy\")\n",
    "intermediate_embeddings = os.path.join(BASE_DIR, \"embeddings_intermediate.npy\")\n",
    "intermediate_labels = os.path.join(BASE_DIR, \"labels_intermediate.npy\")"
   ]
  },
  {
   "cell_type": "code",
   "execution_count": null,
   "metadata": {},
   "outputs": [],
   "source": [
    "def load_dataset_from_csv(csv_path, img_root, model_name=\"ArcFace\", # model_name: 사용할 얼굴 임베딩 모델 이름\n",
    "                          batch_size=5000, \n",
    "                          embeddings_file=embeddings_file, \n",
    "                          labels_file=labels_file,\n",
    "                          intermediate_embeddings=intermediate_embeddings,\n",
    "                          intermediate_labels=intermediate_labels):\n",
    "    df = pd.read_csv(csv_path)\n",
    "    # \"path\" 컬럼이 있으면 \"filename\"으로 이름 변경\n",
    "    if \"path\" in df.columns:\n",
    "        df.rename(columns={\"path\": \"filename\"}, inplace=True)\n",
    "    # \"filename\" 컬럼이 없으면 첫번째 컬럼은 파일명, 두번째 컬럼은 라벨로 간주\n",
    "    elif \"filename\" not in df.columns:\n",
    "        df.columns = [\"filename\", \"label\"]\n",
    "    \n",
    "    X, y = [], []  # 임베딩과 라벨을 저장할 리스트\n",
    "    total = len(df)\n",
    "    \n",
    "    # 중간 저장 파일이 존재하면 이어서 진행\n",
    "    if os.path.exists(intermediate_embeddings) and os.path.exists(intermediate_labels):\n",
    "        print(\"중간 임베딩 파일을 로드합니다...\")\n",
    "        X = list(np.load(intermediate_embeddings, allow_pickle=True))\n",
    "        y = list(np.load(intermediate_labels, allow_pickle=True))\n",
    "        start_index = len(X)  # 이미 처리된 데이터 수 만큼 건너뜁니다.\n",
    "    else:\n",
    "        start_index = 0\n",
    "\n",
    "    # CSV 데이터셋을 배치 단위로 처리\n",
    "    for start in tqdm(range(start_index, total, batch_size), desc=\"배치 처리\"):\n",
    "        end = min(start + batch_size, total)\n",
    "        batch_df = df.iloc[start:end]  # 배치에 해당하는 부분 데이터프레임 추출\n",
    "        for _, row in batch_df.iterrows():\n",
    "            # CSV에 저장된 파일 경로가 전체 경로라면 basename만 사용\n",
    "            filename = os.path.basename(row[\"filename\"])\n",
    "            # 이미지 파일 경로 생성\n",
    "            img_path = os.path.join(img_root, filename)\n",
    "            if not os.path.exists(img_path):\n",
    "                # 이미지 파일이 존재하지 않으면 오류 메시지 출력\n",
    "                print(f\"오류: {img_path} → 파일이 존재하지 않습니다.\")\n",
    "                continue\n",
    "            try:\n",
    "                # DeepFace를 사용하여 이미지에서 임베딩을 추출\n",
    "                embedding = DeepFace.represent(img_path=img_path,\n",
    "                                               model_name=model_name,\n",
    "                                               enforce_detection=False)[0]['embedding']\n",
    "                X.append(embedding)  # 임베딩 추가\n",
    "                y.append(label_map[int(row[\"label\"])])  # 라벨 매핑 후 추가\n",
    "            except Exception as e:\n",
    "                # 임베딩 추출 과정에서 오류 발생 시 오류 메시지 출력\n",
    "                print(f\"오류: {img_path} → {e}\")\n",
    "                continue\n",
    "        # 각 배치가 끝난 후 중간 결과를 저장하여 작업 중간에 중단되어도 이어서 작업 가능하게 함\n",
    "        np.save(intermediate_embeddings, np.array(X, dtype=object))\n",
    "        np.save(intermediate_labels, np.array(y, dtype=object))\n",
    "        print(f\"배치 [{start}:{end}] 완료, 중간 저장됨.\")\n",
    "\n",
    "    # 최종적으로 리스트를 배열로 변환하여 저장 \n",
    "    X = np.array(X, dtype=object)\n",
    "    y = np.array(y, dtype=object)\n",
    "    np.save(embeddings_file, X)\n",
    "    np.save(labels_file, y)\n",
    "    print(\"임베딩 추출 및 최종 저장 완료!\")\n",
    "    return X, y"
   ]
  },
  {
   "cell_type": "code",
   "execution_count": null,
   "metadata": {},
   "outputs": [],
   "source": [
    "# CSV 파일 경로와 이미지 폴더 경로를 설정합니다.\n",
    "csv_path = \"./crops_dataset.csv\"\n",
    "img_root = \"./crops_dataset\"\n",
    "\n",
    "# 위에서 정의한 load_dataset_from_csv 함수를 호출하여 임베딩과 라벨 데이터를 로드 및 임베딩 추출\n",
    "X, y = load_dataset_from_csv(csv_path, img_root, batch_size=5000)"
   ]
  },
  {
   "cell_type": "code",
   "execution_count": null,
   "metadata": {},
   "outputs": [],
   "source": [
    "# 학습 데이터와 테스트 데이터를 분할\n",
    "X_train, X_test, y_train, y_test = train_test_split(\n",
    "    X, y, test_size=0.2, stratify=y, random_state=42\n",
    ")"
   ]
  },
  {
   "cell_type": "code",
   "execution_count": null,
   "metadata": {},
   "outputs": [],
   "source": [
    "# MLPClassifier를 사용하여 분류 모델을 학습\n",
    "# hidden_layer_sizes: 은닉층의 노드 수를 튜플 형태로 지정 (여기서는 두 층, 각각 128와 64 노드)\n",
    "# max_iter: 최대 반복 횟수, verbose: 학습 과정 출력 여부\n",
    "clf = MLPClassifier(hidden_layer_sizes=(128, 64), max_iter=50, random_state=42, verbose=True)\n",
    "\n",
    "# 학습 데이터(X_train, y_train)를 사용하여 모델을 학습\n",
    "clf.fit(X_train, y_train)"
   ]
  }
 ],
 "metadata": {
  "kernelspec": {
   "display_name": "dora_venv",
   "language": "python",
   "name": "python3"
  },
  "language_info": {
   "codemirror_mode": {
    "name": "ipython",
    "version": 3
   },
   "file_extension": ".py",
   "mimetype": "text/x-python",
   "name": "python",
   "nbconvert_exporter": "python",
   "pygments_lexer": "ipython3",
   "version": "3.12.3"
  }
 },
 "nbformat": 4,
 "nbformat_minor": 2
}
