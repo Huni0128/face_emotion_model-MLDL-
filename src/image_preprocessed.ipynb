{
 "cells": [
  {
   "cell_type": "code",
   "execution_count": null,
   "metadata": {},
   "outputs": [],
   "source": [
    "import random\n",
    "from pathlib import Path  # 경로 관리를 위한 모듈\n",
    "\n",
    "# 지정된 폴더 내에서 각 클래스별 이미지를 일정 개수(keep)로 줄이는 함수\n",
    "def downsample_folder(root_dir, classes, keep=5000):\n",
    "    root = Path(root_dir)  # 문자열 경로를 Path 객체로 변환\n",
    "    for cls in classes:\n",
    "        cls_dir = root / cls  # 클래스 폴더 경로 생성\n",
    "        # .jpg 또는 .png 확장자를 가진 모든 파일 목록 생성\n",
    "        imgs = list(cls_dir.rglob('*.[pj][pn]g'))\n",
    "        \n",
    "        # 이미지 개수가 keep 이하이면 변경할 필요 없음\n",
    "        if len(imgs) <= keep:\n",
    "            print(f\"{cls}: {len(imgs)} images (no change)\")\n",
    "            continue\n",
    "\n",
    "        # keep개를 제외한 나머지 이미지를 무작위로 선택하여 삭제\n",
    "        to_remove = random.sample(imgs, len(imgs) - keep)\n",
    "        for f in to_remove:\n",
    "            f.unlink()  # 파일 삭제\n",
    "        print(f\"{cls}: removed {len(to_remove)} images, {keep} remain\")\n"
   ]
  },
  {
   "cell_type": "code",
   "execution_count": null,
   "metadata": {},
   "outputs": [],
   "source": []
  }
 ],
 "metadata": {
  "kernelspec": {
   "display_name": "dora_venv",
   "language": "python",
   "name": "python3"
  },
  "language_info": {
   "name": "python",
   "version": "3.12.3"
  }
 },
 "nbformat": 4,
 "nbformat_minor": 2
}
